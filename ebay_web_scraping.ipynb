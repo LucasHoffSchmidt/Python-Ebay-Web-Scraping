{
 "cells": [
  {
   "cell_type": "markdown",
   "id": "4d5fb54c-73a1-4d73-a00c-38cdfd695604",
   "metadata": {},
   "source": [
    "# Project - Ebay Web Scraping"
   ]
  },
  {
   "cell_type": "code",
   "execution_count": 15,
   "id": "b5335983-5731-453e-b38a-d251a184df5a",
   "metadata": {},
   "outputs": [],
   "source": [
    "# Perform data manipulation and analysis\n",
    "import pandas as pd\n",
    "\n",
    "# Conduct web scraping\n",
    "from bs4 import BeautifulSoup\n",
    "\n",
    "# Make web requests\n",
    "import requests\n",
    "\n",
    "# Manipulate time and dates\n",
    "import time\n",
    "import datetime\n",
    "\n",
    "# Create csv files\n",
    "import csv\n",
    "\n",
    "# Perform operations on the operating system\n",
    "import os"
   ]
  },
  {
   "cell_type": "code",
   "execution_count": 66,
   "id": "ce1d51c6-10e7-4c94-aa93-a3489630f541",
   "metadata": {},
   "outputs": [
    {
     "name": "stdout",
     "output_type": "stream",
     "text": [
      "got data? - Men's Funny T-Shirt New RARE\n",
      "DKK 172.73\n"
     ]
    }
   ],
   "source": [
    "# Connect to website\n",
    "URL = \"https://www.ebay.com/itm/274518279884?_skw=got+data+tshirt&itmmeta=01JB4AZVKXP90GEB6A0R70KHWC&hash=item3fea9086cc%3Ag%3Ayl0AAOSwcUJfd4RL&itmprp=enc%3AAQAJAAAA8HoV3kP08IDx%2BKZ9MfhVJKlo0ygCgFws8sFPyrvO5bBWglSD1IhVc0w0iJaerCxExBh8sQPBSMEwpzoN3MGUxc3XCU%2F8FzOQ7HYleDBlNUoAe8InpDNPntj35U2DRQteJuIec0JKF83q54yI%2BMh5eOPLIXHCnH2eT2WnsIDVeCMDe6W1bAM4BjDV9QZlCixenjd3NtFOdZiIhRsCGnLI1pSCQzeXFItpKuhiBitNRN96xcuzXVKg0%2FiEIChkr9Sn6IhTPCchs4N2YL%2FvR7gh82oVBHkhbNsbKkTIRUOQHsd7p5el4IdsXjNz3nGqkUL%2B5Q%3D%3D%7Ctkp%3ABFBMirr_itlk&var=574707969066\"\n",
    "\n",
    "# Identifies your browser as the client, using User-Agent headers from httpbin.org/get\n",
    "headers = {\"User-Agent\": \"Mozilla/5.0 (Windows NT 10.0; Win64; x64) AppleWebKit/537.36 (KHTML, like Gecko) Chrome/130.0.0.0 Safari/537.36\"}\n",
    "\n",
    "# Get a reference to the page you want to webscrape\n",
    "page = requests.get(URL, headers=headers)\n",
    "\n",
    "# Load the html of the page\n",
    "soup1 = BeautifulSoup(page.content, \"html.parser\")\n",
    "\n",
    "# Improve the html formatting\n",
    "soup2 = BeautifulSoup(soup1.prettify(), \"html.parser\")\n",
    "\n",
    "# Gets the title text by its html ID\n",
    "title = soup2.find(class_=\"ux-textspans ux-textspans--BOLD\").get_text(strip=True)\n",
    "\n",
    "# Gets the price text by its html ID\n",
    "price = soup2.find(class_=\"ux-textspans ux-textspans--SECONDARY ux-textspans--BOLD\").get_text(strip=True)\n",
    "\n",
    "print(title)\n",
    "print(price)"
   ]
  },
  {
   "cell_type": "code",
   "execution_count": 68,
   "id": "29f0b224-5de6-4640-9fae-e5d0de3b7efc",
   "metadata": {},
   "outputs": [],
   "source": [
    "# Remove currency from the price\n",
    "price = price[4:]"
   ]
  },
  {
   "cell_type": "code",
   "execution_count": 70,
   "id": "4fe7ac4d-7546-45e1-af94-d4404d0ac7db",
   "metadata": {},
   "outputs": [
    {
     "name": "stdout",
     "output_type": "stream",
     "text": [
      "got data? - Men's Funny T-Shirt New RARE\n",
      "172.73\n"
     ]
    }
   ],
   "source": [
    "print(title)\n",
    "print(price)"
   ]
  },
  {
   "cell_type": "code",
   "execution_count": 28,
   "id": "5f7bcda8-df68-495e-ae2e-c3c38033e1ed",
   "metadata": {},
   "outputs": [
    {
     "name": "stdout",
     "output_type": "stream",
     "text": [
      "2024-10-28\n"
     ]
    }
   ],
   "source": [
    "# Makes a new csv file with the webscraped data\n",
    "\n",
    "# Gets the date of today\n",
    "today = datetime.date.today()\n",
    "print(today)\n",
    "\n",
    "# Makes the headers and data to be inserted under each header \n",
    "header = [\"Title\", \"Price\", \"Date\"]\n",
    "data = [title, price, today]\n",
    "\n",
    "# Write(w) a new file to the current working directory\n",
    "with open(\"EbayWebScraperDataset.csv\", \"w\", newline=\"\", encoding=\"UTF8\") as f:\n",
    "    writer = csv.writer(f)\n",
    "    writer.writerow(header)\n",
    "    writer.writerow(data)"
   ]
  },
  {
   "cell_type": "code",
   "execution_count": 30,
   "id": "0ad153a5-1c3b-432a-b303-6eb81c5634e5",
   "metadata": {},
   "outputs": [
    {
     "name": "stdout",
     "output_type": "stream",
     "text": [
      "C:\\Users\\lucas\\Python - General\n"
     ]
    }
   ],
   "source": [
    "# Shows the current working directory, where new written files will be saved\n",
    "print(os.getcwd())"
   ]
  },
  {
   "cell_type": "code",
   "execution_count": 32,
   "id": "38994a84-0ec5-4009-808f-198c2573953f",
   "metadata": {},
   "outputs": [
    {
     "data": {
      "text/html": [
       "<div>\n",
       "<style scoped>\n",
       "    .dataframe tbody tr th:only-of-type {\n",
       "        vertical-align: middle;\n",
       "    }\n",
       "\n",
       "    .dataframe tbody tr th {\n",
       "        vertical-align: top;\n",
       "    }\n",
       "\n",
       "    .dataframe thead th {\n",
       "        text-align: right;\n",
       "    }\n",
       "</style>\n",
       "<table border=\"1\" class=\"dataframe\">\n",
       "  <thead>\n",
       "    <tr style=\"text-align: right;\">\n",
       "      <th></th>\n",
       "      <th>Title</th>\n",
       "      <th>Price</th>\n",
       "      <th>Date</th>\n",
       "    </tr>\n",
       "  </thead>\n",
       "  <tbody>\n",
       "    <tr>\n",
       "      <th>0</th>\n",
       "      <td>got data? - Men's Funny T-Shirt New RARE</td>\n",
       "      <td>172.73</td>\n",
       "      <td>2024-10-28</td>\n",
       "    </tr>\n",
       "  </tbody>\n",
       "</table>\n",
       "</div>"
      ],
      "text/plain": [
       "                                      Title   Price        Date\n",
       "0  got data? - Men's Funny T-Shirt New RARE  172.73  2024-10-28"
      ]
     },
     "execution_count": 32,
     "metadata": {},
     "output_type": "execute_result"
    }
   ],
   "source": [
    "# Shows the contents of the saved csv file\n",
    "df = pd.read_csv(r\"C:\\Users\\lucas\\Python - General\\EbayWebScraperDataset.csv\")\n",
    "df"
   ]
  },
  {
   "cell_type": "code",
   "execution_count": 54,
   "id": "5b5468b7-ef95-4834-9823-548302d5c3dd",
   "metadata": {},
   "outputs": [],
   "source": [
    "# Append(a+) a new row of data to the EbayWebScraperDataset.csv file\n",
    "with open(\"EbayWebScraperDataset.csv\", \"a+\", newline=\"\", encoding=\"UTF8\") as f:\n",
    "    writer = csv.writer(f)\n",
    "    writer.writerow(data)"
   ]
  },
  {
   "cell_type": "code",
   "execution_count": 62,
   "id": "74efb916-5436-4eaa-9e54-b9cb8f555ccd",
   "metadata": {},
   "outputs": [],
   "source": [
    "# Function to check the price of the product\n",
    "def check_price():\n",
    "    URL = \"https://www.ebay.com/itm/274518279884?_skw=got+data+tshirt&itmmeta=01JB4AZVKXP90GEB6A0R70KHWC&hash=item3fea9086cc%3Ag%3Ayl0AAOSwcUJfd4RL&itmprp=enc%3AAQAJAAAA8HoV3kP08IDx%2BKZ9MfhVJKlo0ygCgFws8sFPyrvO5bBWglSD1IhVc0w0iJaerCxExBh8sQPBSMEwpzoN3MGUxc3XCU%2F8FzOQ7HYleDBlNUoAe8InpDNPntj35U2DRQteJuIec0JKF83q54yI%2BMh5eOPLIXHCnH2eT2WnsIDVeCMDe6W1bAM4BjDV9QZlCixenjd3NtFOdZiIhRsCGnLI1pSCQzeXFItpKuhiBitNRN96xcuzXVKg0%2FiEIChkr9Sn6IhTPCchs4N2YL%2FvR7gh82oVBHkhbNsbKkTIRUOQHsd7p5el4IdsXjNz3nGqkUL%2B5Q%3D%3D%7Ctkp%3ABFBMirr_itlk&var=574707969066\"\n",
    "\n",
    "    # Identifies your browser as the client, using User-Agent headers from httpbin.org/get\n",
    "    headers = {\"User-Agent\": \"Mozilla/5.0 (Windows NT 10.0; Win64; x64) AppleWebKit/537.36 (KHTML, like Gecko) Chrome/130.0.0.0 Safari/537.36\"}\n",
    "\n",
    "    # Get a reference to the page you want to webscrape\n",
    "    page = requests.get(URL, headers=headers)\n",
    "\n",
    "    # Load the html of the page\n",
    "    soup1 = BeautifulSoup(page.content, \"html.parser\")\n",
    "\n",
    "    # Improve the html formatting\n",
    "    soup2 = BeautifulSoup(soup1.prettify(), \"html.parser\")\n",
    "\n",
    "    # Gets the title text by its html ID\n",
    "    title = soup2.find(class_=\"ux-textspans ux-textspans--BOLD\").get_text(strip=True)\n",
    "    \n",
    "    # Gets the price text by its html ID\n",
    "    price = soup2.find(class_=\"ux-textspans ux-textspans--SECONDARY ux-textspans--BOLD\").get_text(strip=True)\n",
    "    price = price[4:]\n",
    "\n",
    "    # Gets the date of today\n",
    "    today = datetime.date.today()\n",
    "    \n",
    "    # Makes the headers and data to be inserted under each header \n",
    "    header = [\"Title\", \"Price\", \"Date\"]\n",
    "    data = [title, price, today]\n",
    "    \n",
    "    # Append(a+) a new row of data to the EbayWebScraperDataset.csv file\n",
    "    with open(\"EbayWebScraperDataset.csv\", \"a+\", newline=\"\", encoding=\"UTF8\") as f:\n",
    "        writer = csv.writer(f)\n",
    "        writer.writerow(data)"
   ]
  },
  {
   "cell_type": "code",
   "execution_count": 25,
   "id": "61f4f62b-f4c2-49f6-a2c8-784843352287",
   "metadata": {},
   "outputs": [
    {
     "ename": "KeyboardInterrupt",
     "evalue": "",
     "output_type": "error",
     "traceback": [
      "\u001b[1;31m---------------------------------------------------------------------------\u001b[0m",
      "\u001b[1;31mKeyboardInterrupt\u001b[0m                         Traceback (most recent call last)",
      "Cell \u001b[1;32mIn[25], line 4\u001b[0m\n\u001b[0;32m      2\u001b[0m \u001b[38;5;28;01mwhile\u001b[39;00m(\u001b[38;5;28;01mTrue\u001b[39;00m):\n\u001b[0;32m      3\u001b[0m     check_price()\n\u001b[1;32m----> 4\u001b[0m     time\u001b[38;5;241m.\u001b[39msleep(\u001b[38;5;241m5\u001b[39m)\n",
      "\u001b[1;31mKeyboardInterrupt\u001b[0m: "
     ]
    }
   ],
   "source": [
    "# Check the product price intermittently\n",
    "while(True):\n",
    "    check_price()\n",
    "    time.sleep(5)"
   ]
  },
  {
   "cell_type": "code",
   "execution_count": 74,
   "id": "2526a880-7fcc-4d2b-9755-d513b33690ae",
   "metadata": {},
   "outputs": [],
   "source": [
    "# Check the product price once\n",
    "check_price()"
   ]
  },
  {
   "cell_type": "code",
   "execution_count": 76,
   "id": "ede4de68-a3ba-4a0d-aabd-9079874bd181",
   "metadata": {},
   "outputs": [
    {
     "data": {
      "text/html": [
       "<div>\n",
       "<style scoped>\n",
       "    .dataframe tbody tr th:only-of-type {\n",
       "        vertical-align: middle;\n",
       "    }\n",
       "\n",
       "    .dataframe tbody tr th {\n",
       "        vertical-align: top;\n",
       "    }\n",
       "\n",
       "    .dataframe thead th {\n",
       "        text-align: right;\n",
       "    }\n",
       "</style>\n",
       "<table border=\"1\" class=\"dataframe\">\n",
       "  <thead>\n",
       "    <tr style=\"text-align: right;\">\n",
       "      <th></th>\n",
       "      <th>Title</th>\n",
       "      <th>Price</th>\n",
       "      <th>Date</th>\n",
       "    </tr>\n",
       "  </thead>\n",
       "  <tbody>\n",
       "    <tr>\n",
       "      <th>0</th>\n",
       "      <td>got data? - Men's Funny T-Shirt New RARE</td>\n",
       "      <td>172.73</td>\n",
       "      <td>2024-10-28</td>\n",
       "    </tr>\n",
       "    <tr>\n",
       "      <th>1</th>\n",
       "      <td>got data? - Men's Funny T-Shirt New RARE</td>\n",
       "      <td>172.73</td>\n",
       "      <td>2024-10-28</td>\n",
       "    </tr>\n",
       "    <tr>\n",
       "      <th>2</th>\n",
       "      <td>got data? - Men's Funny T-Shirt New RARE</td>\n",
       "      <td>172.73</td>\n",
       "      <td>2024-10-28</td>\n",
       "    </tr>\n",
       "    <tr>\n",
       "      <th>3</th>\n",
       "      <td>got data? - Men's Funny T-Shirt New RARE</td>\n",
       "      <td>172.73</td>\n",
       "      <td>2024-10-28</td>\n",
       "    </tr>\n",
       "  </tbody>\n",
       "</table>\n",
       "</div>"
      ],
      "text/plain": [
       "                                      Title   Price        Date\n",
       "0  got data? - Men's Funny T-Shirt New RARE  172.73  2024-10-28\n",
       "1  got data? - Men's Funny T-Shirt New RARE  172.73  2024-10-28\n",
       "2  got data? - Men's Funny T-Shirt New RARE  172.73  2024-10-28\n",
       "3  got data? - Men's Funny T-Shirt New RARE  172.73  2024-10-28"
      ]
     },
     "execution_count": 76,
     "metadata": {},
     "output_type": "execute_result"
    }
   ],
   "source": [
    "# Shows the contents of the csv file\n",
    "df = pd.read_csv(r\"C:\\Users\\lucas\\Python - General\\EbayWebScraperDataset.csv\")\n",
    "df"
   ]
  }
 ],
 "metadata": {
  "kernelspec": {
   "display_name": "Python 3 (ipykernel)",
   "language": "python",
   "name": "python3"
  },
  "language_info": {
   "codemirror_mode": {
    "name": "ipython",
    "version": 3
   },
   "file_extension": ".py",
   "mimetype": "text/x-python",
   "name": "python",
   "nbconvert_exporter": "python",
   "pygments_lexer": "ipython3",
   "version": "3.12.4"
  }
 },
 "nbformat": 4,
 "nbformat_minor": 5
}
